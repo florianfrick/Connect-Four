{
 "cells": [
  {
   "cell_type": "markdown",
   "metadata": {},
   "source": [
    "---\n",
    "\n",
    "# Connect Four - AB Pruning vs A*\n",
    "## Florian Frick\n"
   ]
  },
  {
   "cell_type": "markdown",
   "metadata": {},
   "source": [
    "---"
   ]
  },
  {
   "cell_type": "code",
   "execution_count": 1,
   "metadata": {},
   "outputs": [],
   "source": [
    "import numpy as np\n",
    "import pandas as pd\n",
    "import matplotlib.pyplot as plt\n",
    "from matplotlib import colors\n",
    "from collections import deque\n",
    "import heapq\n",
    "import unittest\n",
    "from scipy import stats\n",
    "import copy as cp\n",
    "from time import time"
   ]
  },
  {
   "cell_type": "markdown",
   "metadata": {},
   "source": [
    "---\n",
    "\n",
    "### Game Representation"
   ]
  },
  {
   "cell_type": "markdown",
   "metadata": {},
   "source": [
    "Representing the game and board as classes and methods."
   ]
  },
  {
   "cell_type": "code",
   "execution_count": 2,
   "metadata": {},
   "outputs": [],
   "source": [
    "class State:\n",
    "    def __init__(self, moves):\n",
    "        self.to_move = 'R' # whose turn is it\n",
    "        self.utility = 0 # has someone won\n",
    "        self.board = {} # (1,1):'R'\n",
    "        self.moves = moves #\n",
    "        \n",
    "    def __lt__(self, other):\n",
    "        return False # allows arbitrary comparison between states\n",
    "\n",
    "class ConnectFour:\n",
    "    def __init__(self, nrow=6, ncol=7, nwin=4):\n",
    "        self.nrow = nrow\n",
    "        self.ncol = ncol\n",
    "        self.nwin = nwin\n",
    "        moves = [(row,col) for row in range(1, nrow + 1) for col in range(1, ncol + 1)]\n",
    "        self.state = State(moves)\n",
    "\n",
    "    # counts how many pieces in a given column\n",
    "    def pieces_in_col(self, state, col):\n",
    "        '''\n",
    "        Returns number of pieces in a given column\n",
    "        '''\n",
    "        return sum([piece[1] == col for piece in state.board]) # number of pieces already in column trying to drop into\n",
    "    \n",
    "    # returns move at top columns who are not full\n",
    "    def legal_moves(self, state):\n",
    "        return [(1,c) for c in range(1,self.ncol+1) if (self.nrow - self.pieces_in_col(state, c)) > 0]\n",
    "    \n",
    "    # drops piece down a column\n",
    "    def move_after_fall(self, move, state):\n",
    "        '''\n",
    "        Returns the (row,col) a piece falls to taking move in state.\n",
    "        Also ensures move is legal\n",
    "        '''\n",
    "        assert move in state.moves, \"Tried placing in non-existent column or row.\"\n",
    "        assert move not in state.board, \"Tried placing in occupied location.\" # only necessary if not trying to drop from top\n",
    "        \n",
    "        num_in_col = self.pieces_in_col(state,move[1])\n",
    "        assert (self.nrow - num_in_col) > 0, \"Tried placing in full column\"\n",
    "        \n",
    "        return (self.nrow - num_in_col, move[1])\n",
    "    \n",
    "    def result(self, move, state):\n",
    "        '''\n",
    "        What is the hypothetical result of move `move` in state `state` ?\n",
    "        move  = (row, col) tuple where player will put their mark (R or B)\n",
    "        state = a `State` object, to represent whose turn it is and form\n",
    "                the basis for generating a **hypothetical** updated state\n",
    "                that will result from making the given `move`\n",
    "        '''\n",
    "        # check whether move is legal and determine where it falls\n",
    "        real_move = self.move_after_fall(move, state)\n",
    "        \n",
    "        \n",
    "        # change board state\n",
    "        new_state = cp.deepcopy(state)\n",
    "        new_state.board[real_move] = state.to_move # place in column at bottom row\n",
    "        new_state.to_move = 'B' if state.to_move=='R' else 'R'\n",
    "        new_state.utility = self.compute_utility(real_move, state)\n",
    "        \n",
    "        # return new state\n",
    "        return new_state\n",
    "\n",
    "    def compute_utility(self, move, state):\n",
    "        '''\n",
    "        What is the utility of making move `move` in state `state`?\n",
    "        If 'R' wins with this move, return 1;\n",
    "        if 'B' wins return -1;\n",
    "        else return 0.\n",
    "        '''        \n",
    "        \n",
    "        row, col = move\n",
    "        # determine if win condition met with this move\n",
    "        board = cp.deepcopy(state.board)\n",
    "        board[(row,col)] = state.to_move\n",
    "        \n",
    "        \n",
    "        # check for row-wise win\n",
    "        in_a_row = 0\n",
    "        for c in range(col,0,-1):\n",
    "            if board.get((row,c)) == state.to_move:\n",
    "                in_a_row += 1\n",
    "            else:\n",
    "                break;\n",
    "        for c in range(col+1,self.ncol+1):\n",
    "            if board.get((row,c)) == state.to_move:\n",
    "                in_a_row += 1\n",
    "            else:\n",
    "                break;\n",
    "\n",
    "        # check for column-wise win\n",
    "        in_a_col = 0\n",
    "        for r in range(row,0,-1):\n",
    "            if board.get((r,col)) == state.to_move:\n",
    "                in_a_col += 1\n",
    "            else:\n",
    "                break;\n",
    "        for r in range(row+1,self.nrow+1):\n",
    "            if board.get((r,col)) == state.to_move:\n",
    "                in_a_col += 1\n",
    "            else:\n",
    "                break;\n",
    "\n",
    "        # check for NW->SE diagonal win\n",
    "        in_a_diag1 = 0\n",
    "        for r in range(row,0,-1):\n",
    "            if board.get((r,col-(row-r))) == state.to_move:\n",
    "                in_a_diag1 += 1\n",
    "            else:\n",
    "                break;\n",
    "        for r in range(row+1,self.nrow+1):\n",
    "            if board.get((r,col-(row-r))) == state.to_move:\n",
    "                in_a_diag1 += 1\n",
    "            else:\n",
    "                break;\n",
    "\n",
    "        # check for SW->NE diagonal win\n",
    "        in_a_diag2 = 0\n",
    "        for r in range(row,0,-1):\n",
    "            if board.get((r,col+(row-r))) == state.to_move:\n",
    "                in_a_diag2 += 1\n",
    "            else:\n",
    "                break;\n",
    "        for r in range(row+1,self.nrow+1):\n",
    "            if board.get((r,col+(row-r))) == state.to_move:\n",
    "                in_a_diag2 += 1\n",
    "            else:\n",
    "                break;\n",
    "                \n",
    "        # win conditions\n",
    "        # print(move, [in_a_row, in_a_col, in_a_diag1, in_a_diag2]) #debug\n",
    "        if self.nwin in [in_a_row, in_a_col, in_a_diag1, in_a_diag2]:\n",
    "            return 1 if state.to_move=='R' else -1\n",
    "        else:\n",
    "            return 0 \n",
    "\n",
    "    def game_over(self, state):\n",
    "        '''game is over if someone has won (utility!=0) or there\n",
    "        are no more moves left'''\n",
    "        if state.utility != 0:\n",
    "            return True # winner\n",
    "        if len(state.board) == self.nrow * self.ncol:\n",
    "            return True # no moves\n",
    "        return False\n",
    "\n",
    "    def utility(self, state, player):\n",
    "        '''Return the value to player; 1 for win, -1 for loss, 0 otherwise.'''\n",
    "        \n",
    "        if player == 'R':\n",
    "            return state.utility\n",
    "        else:\n",
    "            return -1*state.utility\n",
    "\n",
    "    def display(self):\n",
    "        board = self.state.board\n",
    "        for row in range(1, self.nrow + 1):\n",
    "            for col in range(1, self.ncol + 1):\n",
    "                print(board.get((row, col), '.'), end=' ')\n",
    "            print()\n",
    "\n",
    "    def play_game(self, player1, player2, report_moves=False):\n",
    "        '''Play a game of Connect Four!'''\n",
    "\n",
    "        move_count=0\n",
    "        while self.game_over(self.state) == False:\n",
    "            move_count+=1\n",
    "            # debug print\n",
    "            # self.display()\n",
    "            if self.state.to_move == 'R':\n",
    "                move = player1(self)\n",
    "            else:\n",
    "                move = player2(self)\n",
    "            self.state = self.result(move, self.state)\n",
    "            \n",
    "        if report_moves: # report how many moves to end game\n",
    "            return self.utility(self.state,'R'), move_count\n",
    "        \n",
    "        return self.utility(self.state,'R') # 1 if player 1 wins, -1 if player 2 wins"
   ]
  },
  {
   "cell_type": "markdown",
   "metadata": {},
   "source": [
    "### Random Player"
   ]
  },
  {
   "cell_type": "markdown",
   "metadata": {},
   "source": [
    "Define random player agent that does a random legal move."
   ]
  },
  {
   "cell_type": "code",
   "execution_count": 3,
   "metadata": {},
   "outputs": [],
   "source": [
    "def random_player(game):\n",
    "    '''A player that chooses a legal move at random out of all\n",
    "    available legal moves in ConnectFour state argument'''\n",
    "    \n",
    "    # select all moves who are not on the board\n",
    "    # available_moves = [move for move in game.state.moves if move not in list(game.state.board.keys())] \n",
    "    \n",
    "    # select columns that aren't full\n",
    "    available_moves = game.legal_moves(game.state)\n",
    "    # print(available_moves)\n",
    "    # pick random move based on index in the list\n",
    "    return available_moves[np.random.randint(low=0, high=len(available_moves))]"
   ]
  },
  {
   "cell_type": "code",
   "execution_count": 4,
   "metadata": {
    "tags": []
   },
   "outputs": [
    {
     "name": "stdout",
     "output_type": "stream",
     "text": [
      "Player 1 win probability: 0.564\n",
      "Player 2 win probability: 0.432\n",
      "Draw probability: 0.004\n"
     ]
    }
   ],
   "source": [
    "# 1000 games between two random players, 6x7\n",
    "n=1000\n",
    "\n",
    "results = [ConnectFour().play_game(random_player, random_player) for i in range(n)];\n",
    "\n",
    "print(\"Player 1 win probability:\", results.count(1)/n)\n",
    "print(\"Player 2 win probability:\", results.count(-1)/n)\n",
    "print(\"Draw probability:\", results.count(0)/n)"
   ]
  },
  {
   "cell_type": "markdown",
   "metadata": {},
   "source": [
    "> Random players win 55% of the time going first on a standard 6x7 board."
   ]
  },
  {
   "cell_type": "code",
   "execution_count": 5,
   "metadata": {
    "tags": []
   },
   "outputs": [
    {
     "name": "stdout",
     "output_type": "stream",
     "text": [
      "Player 1 win probability: 0.44\n",
      "Player 2 win probability: 0.432\n",
      "Draw probability: 0.128\n"
     ]
    }
   ],
   "source": [
    "# 1000 games between two random players, 10x10\n",
    "n=1000\n",
    "\n",
    "results = [ConnectFour(nrow=10, ncol=10, nwin=6).play_game(random_player, random_player) for i in range(n)];\n",
    "\n",
    "print(\"Player 1 win probability:\", results.count(1)/n)\n",
    "print(\"Player 2 win probability:\", results.count(-1)/n)\n",
    "print(\"Draw probability:\", results.count(0)/n)"
   ]
  },
  {
   "cell_type": "markdown",
   "metadata": {},
   "source": [
    "> The state space has increased so the advantage of going first decreases, as games take longer. The more difficult win condition of 6 in a row increases the probability of draws because the players have more opportunities to interrupt each other before they get 6 in a row."
   ]
  },
  {
   "cell_type": "markdown",
   "metadata": {},
   "source": [
    "### Alpha-beta Player\n",
    "\n",
    "Define minimax agent with alpha-beta pruning."
   ]
  },
  {
   "cell_type": "code",
   "execution_count": 6,
   "metadata": {},
   "outputs": [],
   "source": [
    "# modified from wikipedia pseudocode\n",
    "def alphabeta_search(game,state,pruning=True):\n",
    "    minimax_counter = 0\n",
    "    prune_counter = 0\n",
    "    def max_value(s,alpha,beta):\n",
    "        # count expanded nodes\n",
    "        if pruning:\n",
    "            nonlocal prune_counter\n",
    "            prune_counter += 1\n",
    "        else:\n",
    "            nonlocal minimax_counter\n",
    "            minimax_counter += 1\n",
    "        \n",
    "        # termination condition\n",
    "        if game.game_over(s):\n",
    "            return game.utility(s,state.to_move),None\n",
    "        \n",
    "        value = -np.inf\n",
    "        best_action = None\n",
    "        \n",
    "        for action in game.legal_moves(s):\n",
    "            minplayer_val, min_act = min_value(game.result(action, s), alpha, beta)\n",
    "            if minplayer_val > value:\n",
    "                best_action = action\n",
    "                value = minplayer_val\n",
    "            \n",
    "            # pruning\n",
    "            if pruning and value >= beta:\n",
    "                return value,best_action\n",
    "            \n",
    "            alpha = max(value,alpha)\n",
    "        return value, best_action\n",
    "\n",
    "    def min_value(s,alpha,beta):\n",
    "        # count expanded nodes\n",
    "        if pruning:\n",
    "            nonlocal prune_counter\n",
    "            prune_counter += 1\n",
    "        else:\n",
    "            nonlocal minimax_counter\n",
    "            minimax_counter += 1\n",
    "\n",
    "        # termination condition\n",
    "        if game.game_over(s):\n",
    "            return game.utility(s,state.to_move),None\n",
    "        \n",
    "        value = np.inf\n",
    "        best_action = None\n",
    "        \n",
    "        for action in game.legal_moves(s):\n",
    "            maxplayer_val, max_act = max_value(game.result(action, s), alpha, beta)\n",
    "            if maxplayer_val < value:\n",
    "                best_action = action\n",
    "                value = maxplayer_val\n",
    "            \n",
    "            # pruning\n",
    "            if pruning and value <= alpha:\n",
    "                return value,best_action\n",
    "            \n",
    "            beta = min(value,beta)\n",
    "        return value, best_action\n",
    "\n",
    "    return max_value(state, -np.inf, np.inf), minimax_counter, prune_counter\n",
    "\n",
    "\n",
    "def alphabeta_player(game):\n",
    "    move, minimax_counter, prune_counter = alphabeta_search(game,game.state)\n",
    "    return move[1]"
   ]
  },
  {
   "cell_type": "code",
   "execution_count": 7,
   "metadata": {
    "tags": []
   },
   "outputs": [
    {
     "name": "stdout",
     "output_type": "stream",
     "text": [
      "AB vs random on 3x4\n",
      "Player 1 win probability: 1.0\n",
      "Player 2 win probability: 0.0\n",
      "Draw probability: 0.0\n"
     ]
    }
   ],
   "source": [
    "# 10 games between an alphabeta and random player, 3x4 3 in a a row\n",
    "n=100\n",
    "\n",
    "results = [ConnectFour(nrow=3,ncol=4,nwin=3).play_game(alphabeta_player, random_player) for i in range(n)];\n",
    "\n",
    "print(\"AB vs random on 3x4\")\n",
    "print(\"Player 1 win probability:\", results.count(1)/n)\n",
    "print(\"Player 2 win probability:\", results.count(-1)/n)\n",
    "print(\"Draw probability:\", results.count(0)/n)"
   ]
  },
  {
   "cell_type": "code",
   "execution_count": 8,
   "metadata": {
    "tags": []
   },
   "outputs": [
    {
     "name": "stdout",
     "output_type": "stream",
     "text": [
      "AB vs AB on 3x4\n",
      "Player 1 win probability: 1.0\n",
      "Player 2 win probability: 0.0\n",
      "Draw probability: 0.0\n"
     ]
    }
   ],
   "source": [
    "# 10 games between two alphabeta players\n",
    "n=10\n",
    "\n",
    "results = [ConnectFour(nrow=3,ncol=4,nwin=3).play_game(alphabeta_player, alphabeta_player) for i in range(n)];\n",
    "\n",
    "print(\"AB vs AB on 3x4\")\n",
    "print(\"Player 1 win probability:\", results.count(1)/n)\n",
    "print(\"Player 2 win probability:\", results.count(-1)/n)\n",
    "print(\"Draw probability:\", results.count(0)/n)"
   ]
  },
  {
   "cell_type": "code",
   "execution_count": 9,
   "metadata": {},
   "outputs": [
    {
     "name": "stdout",
     "output_type": "stream",
     "text": [
      "AB vs AB on 3x3\n",
      "Player 1 win probability: 0.0\n",
      "Player 2 win probability: 0.0\n",
      "Draw probability: 1.0\n"
     ]
    }
   ],
   "source": [
    "# 10 games between two alphabeta players\n",
    "n=10\n",
    "\n",
    "results = [ConnectFour(nrow=3,ncol=3,nwin=3).play_game(alphabeta_player, alphabeta_player) for i in range(n)];\n",
    "\n",
    "print(\"AB vs AB on 3x3\")\n",
    "print(\"Player 1 win probability:\", results.count(1)/n)\n",
    "print(\"Player 2 win probability:\", results.count(-1)/n)\n",
    "print(\"Draw probability:\", results.count(0)/n)"
   ]
  },
  {
   "cell_type": "markdown",
   "metadata": {},
   "source": [
    "> The AB player wins against the random player every time when going first. It sometimes loses when going second due to the small board size, but rarely, and not when the board size is increased.\n",
    "\n",
    "> AB players always draw when playing against each other on some boards, including a 3x3 board, but on others, including a 3x4 board, one player wins."
   ]
  },
  {
   "cell_type": "markdown",
   "metadata": {},
   "source": [
    "### Benefits of AB Pruning"
   ]
  },
  {
   "cell_type": "code",
   "execution_count": 10,
   "metadata": {},
   "outputs": [
    {
     "name": "stdout",
     "output_type": "stream",
     "text": [
      "Number of nodes expanded with pruning: 1115\n",
      "Number of nodes expanded with minimax: 289869\n",
      "Ratio: 0.00385\n"
     ]
    }
   ],
   "source": [
    "# minimax vs pruning (3x4, 3 in a row)\n",
    "\n",
    "game1 = ConnectFour(nrow=3,ncol=4,nwin=3)\n",
    "game2 = ConnectFour(nrow=3,ncol=4,nwin=3)\n",
    "\n",
    "minimax = alphabeta_search(game1, game1.state, pruning=False)\n",
    "pruning = alphabeta_search(game2, game2.state, pruning=True)\n",
    "\n",
    "print(\"Number of nodes expanded with pruning:\", pruning[2])\n",
    "print(\"Number of nodes expanded with minimax:\", minimax[1]) # state space minus board with multiple wins\n",
    "print(\"Ratio: %.5f\" % (pruning[2]/minimax[1]))"
   ]
  },
  {
   "cell_type": "markdown",
   "metadata": {},
   "source": [
    "> AB-pruning expands far fewer nodes than minimax, about 0.00385 the number of nodes. Because minimax goes one move at a time, it searches every state in the state space minus ones with multiple wins. AB pruning still grows exponentially due to its nature, but it is much better than minimax because almost every state has a utility of 0, so once a win/loss is found, almost all subsequent branches get pruned. "
   ]
  },
  {
   "cell_type": "markdown",
   "metadata": {},
   "source": [
    "### A* Player"
   ]
  },
  {
   "cell_type": "markdown",
   "metadata": {},
   "source": [
    "> **Heuristic:** The A* heuristic here is admissible and consistent. It scans the board state to determine how well each player is doing and can do. If the state is won, it of course returns a very high or very low heuristic value, based on which player is currently trying to find a move. Similarly, if the opponent is about to make a move winning them the game, the heuristic is very large. This takes into account disjoint sets so that separated pieces can not come together into a win for the opponent. If there are no immediate threats, the heuristic increases exponentially based on how many in a row this player has. Therefore, 1 on its own is much less valuable than 2 in a row which is much less valuable than 3 in a row, etc."
   ]
  },
  {
   "cell_type": "code",
   "execution_count": 11,
   "metadata": {
    "tags": []
   },
   "outputs": [],
   "source": [
    "# Heuristic evaluates state\n",
    "# return negatives if winning because A* tries to minimize heuristic as frontier's priority queue is a min-heap\n",
    "def heuristic(game, state, player):\n",
    "    # # if someone has won in this state\n",
    "    if state.utility != 0:\n",
    "        if player=='R':\n",
    "            return -1*state.utility * 10000\n",
    "        else:\n",
    "            return state.utility * 10000\n",
    "    \n",
    "    # scan board, determine how many in a row for each player\n",
    "    R_best = 0\n",
    "    B_best = 0\n",
    "    for loc,p in state.board.items():\n",
    "        nums = in_a_row(game,state,loc[0],loc[1],p)\n",
    "        if p=='R':\n",
    "            R_best = max(R_best, max(nums))\n",
    "        else:\n",
    "            B_best = max(B_best, max(nums))\n",
    "    \n",
    "    # opponent one move from win\n",
    "    if player=='R' and state.to_move=='B':\n",
    "        for move in game.legal_moves(state):\n",
    "                temp_state = game.result(move,state)\n",
    "                if temp_state.utility != 0:\n",
    "                    return 10000\n",
    "    elif player=='B' and state.to_move=='R':\n",
    "        for move in game.legal_moves(state):\n",
    "                temp_state = game.result(move,state)\n",
    "                if temp_state.utility != 0:\n",
    "                    return 10000\n",
    "\n",
    "    # exponentially increase based on number in a row\n",
    "    if player=='R':\n",
    "        return -1*(np.exp(R_best))\n",
    "    return -1*(np.exp(B_best))\n",
    "\n",
    "def backtrack(previous, s): \n",
    "    if s is None:\n",
    "        return []\n",
    "    else:\n",
    "        return backtrack(previous, previous[s])+[s]\n",
    "\n",
    "def pathcost(path, step_costs):\n",
    "    cost = 0\n",
    "    for s in range(len(path)-1):\n",
    "        cost += step_costs[path[s]][path[s+1]]\n",
    "    return cost\n",
    "\n",
    "class Frontier_PQ:\n",
    "    def __init__(self,start,cost):\n",
    "        self.states = {start: cost} #lowest cost to each state visited thus far\n",
    "        self.q = [(cost,start)] #priority queue ordered by cost\n",
    "    \n",
    "    # search states to find cost of this state\n",
    "    def get_val_from_state(self, new_state):\n",
    "        for s in self.states:\n",
    "            if state_in_list(new_state, [s]):\n",
    "                return self.states.get(s)\n",
    "        return None\n",
    "    \n",
    "    def add(self,state,cost):\n",
    "        s = self.states.get(state)\n",
    "        if s is None:\n",
    "            # first time reaching state\n",
    "            heapq.heappush(self.q, (cost,state))\n",
    "            self.states[state]=cost\n",
    "        elif s > cost:\n",
    "            # better path to state\n",
    "            self.replace(state,cost)\n",
    "        \n",
    "    def pop(self):\n",
    "        try: \n",
    "            s = heapq.heappop(self.q) #pop from queue\n",
    "            self.states.pop(s[1]) #remove from dictionary\n",
    "            return s\n",
    "        except:\n",
    "            # print(\"Popping off empty queue\")\n",
    "            return None #empty queue\n",
    "        \n",
    "    def replace(self,state,cost):\n",
    "        print(\"replacing\")\n",
    "        oldCost = self.states[state]\n",
    "        self.states[state] = cost #replace cost in dictionary\n",
    "        #replace in queue\n",
    "        self.q.remove((oldCost,state))\n",
    "        self.q.append((cost,state))\n",
    "        heapq.heapify(self.q)\n",
    "        \n",
    "def in_a_row(game, state, row, col, player):\n",
    "    board = state.board\n",
    "    in_a_row = 0\n",
    "    for c in range(col,0,-1):\n",
    "        if board.get((row,c)) == player:\n",
    "            in_a_row += 1\n",
    "        else:\n",
    "            break;\n",
    "    for c in range(col+1,game.ncol+1):\n",
    "        if board.get((row,c)) == player:\n",
    "            in_a_row += 1\n",
    "        else:\n",
    "            break;\n",
    "\n",
    "    in_a_col = 0\n",
    "    for r in range(row,0,-1):\n",
    "        if board.get((r,col)) == player:\n",
    "            in_a_col += 1\n",
    "        else:\n",
    "            break;\n",
    "    for r in range(row+1,game.nrow+1):\n",
    "        if board.get((r,col)) == player:\n",
    "            in_a_col += 1\n",
    "        else:\n",
    "            break;\n",
    "\n",
    "    in_a_diag1 = 0\n",
    "    for r in range(row,0,-1):\n",
    "        if board.get((r,col-(row-r))) == player:\n",
    "            in_a_diag1 += 1\n",
    "        else:\n",
    "            break;\n",
    "    for r in range(row+1,game.nrow+1):\n",
    "        if board.get((r,col-(row-r))) == player:\n",
    "            in_a_diag1 += 1\n",
    "        else:\n",
    "            break;\n",
    "\n",
    "    in_a_diag2 = 0\n",
    "    for r in range(row,0,-1):\n",
    "        if board.get((r,col+(row-r))) == player:\n",
    "            in_a_diag2 += 1\n",
    "        else:\n",
    "            break;\n",
    "    for r in range(row+1,game.nrow+1):\n",
    "        if board.get((r,col+(row-r))) == player:\n",
    "            in_a_diag2 += 1\n",
    "        else:\n",
    "            break;\n",
    "\n",
    "    return [in_a_row, in_a_col, in_a_diag1, in_a_diag2]\n",
    "\n",
    "\n",
    "# identify difference between the two board states\n",
    "def move_between_two_states(s0, s1):\n",
    "    # ensure one move probably separates the states\n",
    "    if len(s0.board) != len(s1.board)-1:\n",
    "        print(\"State 1 does not follow state 2.\")\n",
    "        return False\n",
    "\n",
    "    ret_loc = None\n",
    "    for loc in s1.board.keys():\n",
    "        if loc not in s0.board.keys():\n",
    "            if ret_loc is not None:\n",
    "                print(\"More than one difference between states.\")\n",
    "            ret_loc = loc # difference between the two states\n",
    "    return ret_loc\n",
    "    \n",
    "# returns true if state s in list of states l\n",
    "def state_in_list(s, l):\n",
    "    # compare each state in list\n",
    "    for s2 in l:\n",
    "        if s2.to_move == s.to_move and s2.utility == s.utility and len(s2.board) == len(s.board): # preliminary checks\n",
    "            ret_val = True # assume boards are the same\n",
    "            for loc,p in s2.board.items():\n",
    "                if s.board.get(loc) != p:\n",
    "                    ret_val = False # proved boards are not the same\n",
    "                    break\n",
    "            if ret_val == True:\n",
    "                return True # boards were the same\n",
    "    return False # no equivalent state found\n",
    "    \n",
    "# Given a game (in a state), perform A* to find win, return move to make from that state\n",
    "def astar(game):\n",
    "    # initialize\n",
    "    player = game.state.to_move\n",
    "    start = game.state\n",
    "    pq = Frontier_PQ(start,heuristic(game,start,player))\n",
    "    explored = []\n",
    "    prev = {start: None}\n",
    "    \n",
    "    # find path\n",
    "    while True:\n",
    "        # explore next state\n",
    "        v = pq.pop()\n",
    "        \n",
    "        if v is None:\n",
    "            # print(\"could not find goal\")\n",
    "            return game.legal_moves(start)[0] # could not find goal (act randomly, for now)\n",
    "        \n",
    "        current_cost = v[0]\n",
    "        current_state = v[1]\n",
    "        explored.append(current_state)\n",
    "        \n",
    "        \n",
    "        if game.utility(current_state, player) == 1: # found win\n",
    "            path = backtrack(prev, current_state) # dictionary of paths and final state\n",
    "            if len(path) < 2:\n",
    "                print(\"Already at goal, no move to be made\")\n",
    "                return False\n",
    "            move = move_between_two_states(path[0], path[1]) # get first move to make from start(path[0])\n",
    "            return move # best move\n",
    "        \n",
    "        for move in game.legal_moves(current_state):\n",
    "            new_state = game.result(move,current_state)\n",
    "            new_in_explored = state_in_list(new_state, explored)\n",
    "            new_in_pq = state_in_list(new_state, pq.states)\n",
    "            if new_in_explored == False and new_in_pq == False: # new state not been explored, and not in frontier\n",
    "                prev[new_state] = current_state\n",
    "                pq.add(new_state, 1 + current_cost + heuristic(game,new_state,player)) #edge weight current to new state and distance from new state to goal\n",
    "            elif new_in_pq == True: # new state in frontier\n",
    "                # print(\"Has visited state before\", new_state)\n",
    "                if (1 + current_cost + heuristic(game,new_state,player)) < pq.get_val_from_state(new_state): # better path to new_state\n",
    "                    prev[new_state] = v[1]\n",
    "                    pq.replace(new_state, 1 + current_cost + heuristic(game,new_state,player)) #edge current to new state and distance from new state to goal\n",
    "\n",
    "def astar_player(game):\n",
    "    move = astar(game)\n",
    "    # print(move)\n",
    "    return move"
   ]
  },
  {
   "cell_type": "markdown",
   "metadata": {},
   "source": [
    "### A* vs AB vs Random"
   ]
  },
  {
   "cell_type": "markdown",
   "metadata": {},
   "source": [
    "> Against a random player, A* wins almost game, and when going second more consistently than AB pruning. The games took 11.35 moves on average, because A* blocks the random player's possible wins, even if it won't take advantage, and gets randomly blocked. Therefore, the bigger the board size, the fewer moves it takes to win, and the less likely it is for a random player to be able to win or draw as it will make mistakes more often.\n",
    "\n",
    "> Against an AB-player, A* wins every game. The games took 5 moves on average, because the AB pruning player only acts against what an AB pruning player would do, not any other kind of player. Also, when no moves are winning, it picks the first option it finds because very losing state has the same utility.\n",
    "\n",
    "> Against itself, A* ties every game. The games took 42 moves on average, because both A* players block each other's wins every time, and do not have a complex enough heuristic to establish tactics and strategies like base-inverse, claim-even. The smaller the board, the bigger an advantage the first player has because they have tempo. \n",
    " \n",
    "> The A* player seems much better than the AB-player for several reasons. Most importantly, A* runs much faster than AB-pruning because it does not exponentially explore every possible path to make a move. A* uses a heuristic, which runs quickly and as a bonus, can be improved more flexibly. A* also performs better than AB-pruning because AB-pruning only acts optimally against itself. If its opponent deviates from what the min-player would do, the action it chose was likely suboptimal, and is thus open to be exploited by other strategies, such as A*.\n",
    "\n",
    "> The A* algorithm could be expanded in the future to implement more complex heuristics. A heuristic that accounts for tactics, zugzswang, base-inverse, and claim-even rules would be difficult to implement but very effective in looking ahead and understanding which threats are relevant, and what can be ignored to get a better position."
   ]
  },
  {
   "cell_type": "code",
   "execution_count": 12,
   "metadata": {
    "tags": []
   },
   "outputs": [
    {
     "name": "stdout",
     "output_type": "stream",
     "text": [
      "Player 1 win probability: 0.99\n",
      "Player 2 win probability: 0.01\n",
      "Draw probability: 0.0\n",
      "Avg # moves: 11.35\n"
     ]
    }
   ],
   "source": [
    "# A* vs random (6x7)\n",
    "n=100\n",
    "\n",
    "results = [ConnectFour(nrow=6,ncol=7,nwin=4).play_game(astar_player, random_player, report_moves=True) for i in range(n)];\n",
    "winners = [result[0] for result in results]\n",
    "move_counts = [result[1] for result in results]\n",
    "\n",
    "print(\"Player 1 win probability:\", winners.count(1)/n)\n",
    "print(\"Player 2 win probability:\", winners.count(-1)/n)\n",
    "print(\"Draw probability:\", winners.count(0)/n)\n",
    "print(\"Avg # moves:\", sum(move_counts)/n)"
   ]
  },
  {
   "cell_type": "code",
   "execution_count": 13,
   "metadata": {
    "tags": []
   },
   "outputs": [
    {
     "name": "stdout",
     "output_type": "stream",
     "text": [
      "Player 1 win probability: 1.0\n",
      "Player 2 win probability: 0.0\n",
      "Draw probability: 0.0\n",
      "Avg # moves: 5.0\n"
     ]
    }
   ],
   "source": [
    "# A* vs AB (3x4)\n",
    "n=10\n",
    "\n",
    "results = [ConnectFour(nrow=3, ncol=4,nwin=3).play_game(astar_player, alphabeta_player, report_moves=True) for i in range(n)];\n",
    "winners = [result[0] for result in results]\n",
    "move_counts = [result[1] for result in results]\n",
    "\n",
    "print(\"Player 1 win probability:\", winners.count(1)/n)\n",
    "print(\"Player 2 win probability:\", winners.count(-1)/n)\n",
    "print(\"Draw probability:\", winners.count(0)/n)\n",
    "print(\"Avg # moves:\", sum(move_counts)/n)"
   ]
  },
  {
   "cell_type": "code",
   "execution_count": 14,
   "metadata": {
    "tags": []
   },
   "outputs": [
    {
     "name": "stdout",
     "output_type": "stream",
     "text": [
      "Player 1 win probability: 0.0\n",
      "Player 2 win probability: 0.0\n",
      "Draw probability: 1.0\n",
      "Avg # moves: 42.0\n"
     ]
    }
   ],
   "source": [
    "# A* vs A* (6x7)\n",
    "n=10\n",
    "\n",
    "results = [ConnectFour(nrow=6, ncol=7,nwin=4).play_game(astar_player, astar_player, report_moves=True) for i in range(n)];\n",
    "winners = [result[0] for result in results]\n",
    "move_counts = [result[1] for result in results]\n",
    "\n",
    "print(\"Player 1 win probability:\", winners.count(1)/n)\n",
    "print(\"Player 2 win probability:\", winners.count(-1)/n)\n",
    "print(\"Draw probability:\", winners.count(0)/n)\n",
    "print(\"Avg # moves:\", sum(move_counts)/n)"
   ]
  },
  {
   "cell_type": "markdown",
   "metadata": {},
   "source": [
    "> "
   ]
  }
 ],
 "metadata": {
  "kernelspec": {
   "display_name": "Python 3 (ipykernel)",
   "language": "python",
   "name": "python3"
  },
  "language_info": {
   "codemirror_mode": {
    "name": "ipython",
    "version": 3
   },
   "file_extension": ".py",
   "mimetype": "text/x-python",
   "name": "python",
   "nbconvert_exporter": "python",
   "pygments_lexer": "ipython3",
   "version": "3.10.8"
  }
 },
 "nbformat": 4,
 "nbformat_minor": 4
}
